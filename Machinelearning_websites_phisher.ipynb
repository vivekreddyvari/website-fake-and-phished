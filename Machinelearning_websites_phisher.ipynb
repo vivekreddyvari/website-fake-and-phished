{
 "cells": [
  {
   "cell_type": "code",
   "execution_count": 11,
   "metadata": {},
   "outputs": [],
   "source": [
    "from sklearn import tree\n",
    "from sklearn import svm\n",
    "from sklearn.ensemble import RandomForestClassifier\n",
    "from sklearn.ensemble import GradientBoostingClassifier\n",
    "from sklearn.metrics import accuracy_score\n",
    "from sklearn.neighbors import KNeighborsClassifier\n",
    "from sklearn.model_selection import train_test_split\n",
    "from websiteanalyser00 import generate_data_set\n",
    "\n",
    "import numpy as np\n",
    "import sys"
   ]
  },
  {
   "cell_type": "code",
   "execution_count": 12,
   "metadata": {},
   "outputs": [],
   "source": [
    "def load_data():\n",
    "    '''\n",
    "    Load data from CSV file\n",
    "    '''\n",
    "    # Load the training data from the CSV file\n",
    "    training_data = np.genfromtxt('dataset.csv', delimiter=',', dtype=np.int32)\n",
    "\n",
    "    # Extract the inputs from the training data\n",
    "    inputs = training_data[:,:-1]\n",
    "\n",
    "    # Extract the outputs from the training data\n",
    "    outputs = training_data[:, -1]\n",
    "\n",
    "    # This model follow 80-20 rule on dataset\n",
    "    # Split 80% for traning and 20% testing\n",
    "    boundary = int(0.8*len(inputs))\n",
    "\n",
    "    training_inputs, training_outputs, testing_inputs, testing_outputs = train_test_split(inputs, outputs, test_size=0.33)\n",
    "\n",
    "    # Return the four arrays\n",
    "    return training_inputs, training_outputs, testing_inputs, testing_outputs\n"
   ]
  },
  {
   "cell_type": "code",
   "execution_count": 13,
   "metadata": {},
   "outputs": [],
   "source": [
    "def run(classifier, name):\n",
    "    '''\n",
    "    Run the classifier to calculate the accuracy score\n",
    "    '''\n",
    "    # Load the training data\n",
    "    train_inputs, test_inputs,train_outputs, test_outputs = load_data()\n",
    "\n",
    "    # Train the decision tree classifier\n",
    "    classifier.fit(train_inputs, train_outputs)\n",
    "\n",
    "    # Use the trained classifier to make predictions on the test data\n",
    "    predictions = classifier.predict(test_inputs)\n",
    "\n",
    "    # Print the accuracy (percentage of phishing websites correctly predicted)\n",
    "    accuracy = 100.0 * accuracy_score(test_outputs, predictions)\n",
    "    print(\"Accuracy score using {} is: {}\\n\".format(name, accuracy))"
   ]
  },
  {
   "cell_type": "code",
   "execution_count": 23,
   "metadata": {},
   "outputs": [
    {
     "name": "stdout",
     "output_type": "stream",
     "text": [
      "Best classifier for detecting phishing websites.\n",
      "Accuracy score using Random forest is: 100.0\n",
      "\n",
      "Worst classifier for detecting phishing websites.\n",
      "Accuracy score using One Class SVM is: 50.644012058098106\n",
      "\n"
     ]
    },
  
   "source": [
    "if __name__ == '__main__':\n",
    "    '''\n",
    "    Main function -\n",
    "    Following are several models trained to detect phishing webstes.\n",
    "    Only the best and worst classifier outputs are displayed.\n",
    "    '''\n",
    "\n",
    "    # Decision tree\n",
    "    # classifier = tree.DecisionTreeClassifier()\n",
    "    # run(classifier, \"Decision tree\")\n",
    "\n",
    "    # Random forest classifier (low accuracy)\n",
    "    # classifier = RandomForestClassifier()\n",
    "    # run(classifier, \"Random forest\")\n",
    "\n",
    "    # Custom random forest classifier 1\n",
    "    print(\"Best classifier for detecting phishing websites.\")\n",
    "    classifier = RandomForestClassifier(n_estimators=500, max_depth=15, max_leaf_nodes=10000)\n",
    "    run(classifier, \"Random forest\")\n",
    "\n",
    "    # Linear SVC classifier\n",
    "    # classifier = svm.SVC(kernel='linear')\n",
    "    # run(classifier, \"SVC with linear kernel\")\n",
    "\n",
    "    # RBF SVC classifier\n",
    "    # classifier = svm.SVC(kernel='rbf')\n",
    "    # run(classifier, \"SVC with rbf kernel\")\n",
    "\n",
    "    # Custom SVC classifier 1\n",
    "    # classifier = svm.SVC(decision_function_shape='ovo', kernel='linear')\n",
    "    # run(classifier, \"SVC with ovo shape\")\n",
    "\n",
    "    # Custom SVC classifier 2\n",
    "    # classifier = svm.SVC(decision_function_shape='ovo', kernel='rbf')\n",
    "    # run(classifier, \"SVC with ovo shape\")\n",
    "\n",
    "    # NuSVC classifier\n",
    "    # classifier = svm.NuSVC()\n",
    "    # run(classifier, \"NuSVC\")\n",
    "\n",
    "    # OneClassSVM classifier\n",
    "    print(\"Worst classifier for detecting phishing websites.\")\n",
    "    classifier = svm.OneClassSVM()\n",
    "    run(classifier, \"One Class SVM\")\n",
    "\n",
    "    # print \"K nearest neighbours algorithm.\"\n",
    "    # nbrs = KNeighborsClassifier(n_neighbors=5, algorithm='ball_tree')\n",
    "    # run(nbrs, \"K nearest neighbours\")\n",
    "\n",
    "    # Gradient boosting classifier\n",
    "    # classifier = GradientBoostingClassifier()\n",
    "    # run(classifier, \"GradientBoostingClassifier\")\n",
    "\n",
    "    # Take user input and check whether its phishing URL or not.\n",
    "    if len(sys.argv) > 1:\n",
    "        data_set = generate_data_set(sys.argv[1])\n",
    "\n",
    "        # Reshape the array\n",
    "        data_set = np.array(data_set).reshape(1, -1)\n",
    "\n",
    "        # Load the date\n",
    "        train_inputs, test_inputs,train_outputs, test_outputs = load_data()\n",
    "\n",
    "        # Create and train the classifier\n",
    "        classifier = RandomForestClassifier(n_estimators=500, max_depth=15, max_leaf_nodes=10000)\n",
    "        classifier.fit(train_inputs, train_outputs)\n",
    "\n",
    "        print(classifier.predict(data_set))"
   ]
  },
  {
   "cell_type": "code",
   "execution_count": 20,
   "metadata": {},
   "outputs": [],
   "source": [
    "import numpy as np\n",
    "training_data = np.genfromtxt('dataset.csv', delimiter=',', dtype=np.int32)"
   ]
  },
  {
   "cell_type": "code",
   "execution_count": 21,
   "metadata": {},
   "outputs": [
    {
     "name": "stdout",
     "output_type": "stream",
     "text": [
      "[[-1  1  1 ...  1 -1 -1]\n",
      " [-1  1  1 ...  1  1 -1]\n",
      " [-1  0  1 ...  0 -1 -1]\n",
      " ...\n",
      " [-1 -1  1 ...  0  1 -1]\n",
      " [-1 -1  1 ...  1  1 -1]\n",
      " [-1 -1  1 ...  1 -1 -1]]\n"
     ]
    }
   ],
   "source": [
    "print(training_data)"
   ]
  },
  {
   "cell_type": "code",
   "execution_count": null,
   "metadata": {},
   "outputs": [],
   "source": []
  }
 ],
 "metadata": {
  "kernelspec": {
   "display_name": "Python 3",
   "language": "python",
   "name": "python3"
  },
  "language_info": {
   "codemirror_mode": {
    "name": "ipython",
    "version": 3
   },
   "file_extension": ".py",
   "mimetype": "text/x-python",
   "name": "python",
   "nbconvert_exporter": "python",
   "pygments_lexer": "ipython3",
   "version": "3.7.4"
  }
 },
 "nbformat": 4,
 "nbformat_minor": 2
}
